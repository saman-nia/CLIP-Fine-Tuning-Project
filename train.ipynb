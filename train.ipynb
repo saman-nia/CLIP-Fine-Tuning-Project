{
 "cells": [
  {
   "cell_type": "markdown",
   "id": "fecec93a-0952-4aff-867a-a8cdcf46e9d1",
   "metadata": {},
   "source": [
    "# Fine-Tuning Clip Visual Encoder on Custom Data\n",
    "\n",
    "The text encoder is frozen, the visual encoder is finetuned on the custom data"
   ]
  },
  {
   "cell_type": "code",
   "execution_count": null,
   "id": "ec87cefb-8699-4da1-902a-a0f7a4918cdf",
   "metadata": {},
   "outputs": [],
   "source": [
    "!pip install torch pillow open_clip_torch"
   ]
  },
  {
   "cell_type": "code",
   "execution_count": 1,
   "id": "2591b174-a5fb-4031-a7b0-8c98716e9517",
   "metadata": {},
   "outputs": [],
   "source": [
    "import json\n",
    "import os\n",
    "\n",
    "from PIL import Image\n",
    "\n",
    "import torch\n",
    "\n",
    "import open_clip"
   ]
  },
  {
   "cell_type": "markdown",
   "id": "9cb738ec-514c-4806-9ec8-692a338f78c7",
   "metadata": {},
   "source": [
    "Find device (CUDA or CPU)"
   ]
  },
  {
   "cell_type": "code",
   "execution_count": 2,
   "id": "10b8451d-1b65-48e1-81df-5058e4f75617",
   "metadata": {},
   "outputs": [],
   "source": [
    "device = \"cuda\" if torch.cuda.is_available() else \"cpu\""
   ]
  },
  {
   "cell_type": "markdown",
   "id": "8d645e23-c688-4bf3-8fe7-3d8cef278ba5",
   "metadata": {},
   "source": [
    "### Get OpenClip Model\n",
    "\n",
    "https://github.com/mlfoundations/open_clip"
   ]
  },
  {
   "cell_type": "code",
   "execution_count": 3,
   "id": "9fc51c0a-0e86-44ac-80dc-aa613de35a0a",
   "metadata": {},
   "outputs": [
    {
     "name": "stderr",
     "output_type": "stream",
     "text": [
      "/home/deeplearn/.pyenv/versions/3.11.4/envs/cschramm-workspace/lib/python3.11/site-packages/open_clip/factory.py:128: FutureWarning: You are using `torch.load` with `weights_only=False` (the current default value), which uses the default pickle module implicitly. It is possible to construct malicious pickle data which will execute arbitrary code during unpickling (See https://github.com/pytorch/pytorch/blob/main/SECURITY.md#untrusted-models for more details). In a future release, the default value for `weights_only` will be flipped to `True`. This limits the functions that could be executed during unpickling. Arbitrary objects will no longer be allowed to be loaded via this mode unless they are explicitly allowlisted by the user via `torch.serialization.add_safe_globals`. We recommend you start setting `weights_only=True` for any use case where you don't have full control of the loaded file. Please open an issue on GitHub for any issues related to this experimental feature.\n",
      "  checkpoint = torch.load(checkpoint_path, map_location=map_location)\n"
     ]
    }
   ],
   "source": [
    "model, _, preprocess = open_clip.create_model_and_transforms(\"RN50\", \"cc12m\")\n",
    "model.transformer.eval()\n",
    "tokenizer = open_clip.get_tokenizer(\"RN50\")"
   ]
  },
  {
   "cell_type": "markdown",
   "id": "c7dab6b4-2d65-4e56-be63-5c7d1feb8537",
   "metadata": {},
   "source": [
    "### Define Dataset and Dataloader"
   ]
  },
  {
   "cell_type": "code",
   "execution_count": 4,
   "id": "95d51cb2-0824-4857-8004-c29d580fd55e",
   "metadata": {},
   "outputs": [],
   "source": [
    "class Dataset(torch.utils.data.Dataset):\n",
    "    def __init__(self, descr_fpath, image_folder, preprocess, tokenizer):\n",
    "        self.descriptions = list(json.load(open(descr_fpath, mode=\"r\")).items())\n",
    "        self.image_folder = image_folder\n",
    "        self.preprocess = preprocess\n",
    "        self.tokenizer = tokenizer\n",
    "\n",
    "    def __len__(self):\n",
    "        return len(self.descriptions)\n",
    "\n",
    "    def __getitem__(self, idx):\n",
    "        img_fname, description = self.descriptions[idx]\n",
    "        img = Image.open(os.path.join(self.image_folder, img_fname))\n",
    "        img = self.preprocess(img)\n",
    "        tokens = tokenizer(description)\n",
    "        return img, tokens"
   ]
  },
  {
   "cell_type": "code",
   "execution_count": 5,
   "id": "f3a2ebb1-e499-43c1-9bcc-1b6e6b169da8",
   "metadata": {},
   "outputs": [],
   "source": [
    "dataset = Dataset(\"data/descriptions.json\", \"data/images\", preprocess, tokenizer)"
   ]
  },
  {
   "cell_type": "code",
   "execution_count": 6,
   "id": "adb9f260-5bd2-428c-887d-526b60f8ddf9",
   "metadata": {},
   "outputs": [],
   "source": [
    "dataset_train, dataset_test = torch.utils.data.random_split(dataset, [0.7, 0.3])"
   ]
  },
  {
   "cell_type": "code",
   "execution_count": 7,
   "id": "bbba1493-9974-47a5-b321-e7d3e270bfd0",
   "metadata": {},
   "outputs": [],
   "source": [
    "batch_size = 16"
   ]
  },
  {
   "cell_type": "code",
   "execution_count": 8,
   "id": "e431ff35-ade5-4117-b8c1-22cd0a38fbdc",
   "metadata": {},
   "outputs": [],
   "source": [
    "dataloader_train = torch.utils.data.DataLoader(\n",
    "    dataset_train,\n",
    "    shuffle=True,\n",
    "    batch_size=batch_size,\n",
    "    num_workers=4,\n",
    "    drop_last=True,\n",
    ")"
   ]
  },
  {
   "cell_type": "code",
   "execution_count": 9,
   "id": "e9696911-392a-4d0e-9726-0d18d3d9b01a",
   "metadata": {},
   "outputs": [],
   "source": [
    "dataloader_test = torch.utils.data.DataLoader(\n",
    "    dataset_test,\n",
    "    shuffle=False,\n",
    "    batch_size=batch_size,\n",
    "    num_workers=4,\n",
    "    drop_last=True,\n",
    ")"
   ]
  },
  {
   "cell_type": "markdown",
   "id": "7e932c5a-4701-444d-80c1-38637728976b",
   "metadata": {},
   "source": [
    "### Training Loop"
   ]
  },
  {
   "cell_type": "code",
   "execution_count": 10,
   "id": "43daf0a7-657a-46a9-986a-1bdc1120e3fa",
   "metadata": {},
   "outputs": [],
   "source": [
    "num_epochs = 8\n",
    "optimizer = torch.optim.AdamW(model.visual.parameters())\n",
    "loss_fn = torch.nn.CrossEntropyLoss()\n",
    "model = model.to(device)\n",
    "scaler = torch.amp.GradScaler(device)\n",
    "scheduler = torch.optim.lr_scheduler.OneCycleLR(\n",
    "    optimizer,\n",
    "    max_lr=0.0001,\n",
    "    steps_per_epoch=len(dataloader_train),\n",
    "    epochs=num_epochs,\n",
    "    pct_start=0.1,\n",
    ")"
   ]
  },
  {
   "cell_type": "code",
   "execution_count": 11,
   "id": "030cafb3-f0ad-4734-8486-7ca86c64e609",
   "metadata": {},
   "outputs": [
    {
     "name": "stdout",
     "output_type": "stream",
     "text": [
      "epoch 1\n",
      "train: 1.6339112717744917\n",
      "test: 0.48242297768592834\n",
      "\n",
      "epoch 2\n",
      "train: 0.618115863307964\n",
      "test: 0.29135844111442566\n",
      "\n",
      "epoch 3\n",
      "train: 0.25435521696196045\n",
      "test: 0.054301679134368896\n",
      "\n",
      "epoch 4\n",
      "train: 0.11629492373660553\n",
      "test: 0.31455808877944946\n",
      "\n",
      "epoch 5\n",
      "train: 0.07687708475562029\n",
      "test: 0.0015368163585662842\n",
      "\n",
      "epoch 6\n",
      "train: 0.06449450136617173\n",
      "test: 0.0017068013548851013\n",
      "\n",
      "epoch 7\n",
      "train: 0.03913865966159244\n",
      "test: 0.04371177405118942\n",
      "\n",
      "epoch 8\n",
      "train: 0.05220240943653639\n",
      "test: 0.0405363067984581\n",
      "\n"
     ]
    }
   ],
   "source": [
    "for epoch in range(num_epochs):\n",
    "    print(\"epoch\", epoch + 1)\n",
    "    model.visual.train()\n",
    "\n",
    "    losses = []\n",
    "    for img, tokens in dataloader_train:\n",
    "        with torch.autocast(device, dtype=torch.float16):\n",
    "            # encode features\n",
    "            img_features = model.encode_image(img.to(device))\n",
    "            text_features = model.encode_text(tokens.squeeze(1).to(device))\n",
    "\n",
    "            # normalize features\n",
    "            img_features = img_features / img_features.norm(dim=-1, keepdim=True)\n",
    "            text_features = text_features / text_features.norm(dim=-1, keepdim=True)\n",
    "\n",
    "            # get loss\n",
    "            logits = 100.0 * img_features @ text_features.T\n",
    "            loss = loss_fn(logits, torch.arange(batch_size).to(device))\n",
    "\n",
    "        # do optimization step\n",
    "        scaler.scale(loss).backward()\n",
    "        scaler.step(optimizer)\n",
    "        scaler.update()\n",
    "        optimizer.zero_grad(set_to_none=True)\n",
    "        scheduler.step()\n",
    "        losses.append(loss.item())\n",
    "\n",
    "    print(\"train:\", sum(losses) / len(losses))\n",
    "\n",
    "    losses = []\n",
    "    model.visual.eval()\n",
    "    with torch.no_grad(), torch.autocast(device, dtype=torch.float16):\n",
    "        img_features = model.encode_image(img.to(device))\n",
    "        text_features = model.encode_text(tokens.squeeze(1).to(device))\n",
    "        \n",
    "        img_features = img_features / img_features.norm(dim=-1, keepdim=True)\n",
    "        text_features = text_features / text_features.norm(dim=-1, keepdim=True)\n",
    "    \n",
    "        logits = 100.0 * img_features @ text_features.T\n",
    "        loss = loss_fn(logits, torch.arange(batch_size).to(device))\n",
    "        losses.append(loss.item())\n",
    "\n",
    "    print(\"test:\", sum(losses) / len(losses))\n",
    "    print()"
   ]
  },
  {
   "cell_type": "markdown",
   "id": "19780732-3c0e-4d44-a529-fbd5488b373c",
   "metadata": {},
   "source": [
    "### Save Model"
   ]
  },
  {
   "cell_type": "code",
   "execution_count": 12,
   "id": "3428ccc6-d960-4583-a8f5-b488c27404a2",
   "metadata": {},
   "outputs": [],
   "source": [
    "checkpoint = {\n",
    "    \"model\": model.state_dict(),\n",
    "    \"optimizer\": optimizer.state_dict(),\n",
    "    \"scaler\": scaler.state_dict(),\n",
    "    \"scheduler\": scheduler.state_dict(),\n",
    "    \"epoch\": epoch,\n",
    "}\n",
    "torch.save(checkpoint, \"models/model.chkpt\")"
   ]
  },
  {
   "cell_type": "code",
   "execution_count": null,
   "id": "0e1735e6-0395-4a0a-bbab-78e651400d29",
   "metadata": {},
   "outputs": [],
   "source": []
  }
 ],
 "metadata": {
  "kernelspec": {
   "display_name": "Python 3 (ipykernel)",
   "language": "python",
   "name": "python3"
  },
  "language_info": {
   "codemirror_mode": {
    "name": "ipython",
    "version": 3
   },
   "file_extension": ".py",
   "mimetype": "text/x-python",
   "name": "python",
   "nbconvert_exporter": "python",
   "pygments_lexer": "ipython3",
   "version": "3.11.4"
  }
 },
 "nbformat": 4,
 "nbformat_minor": 5
}
